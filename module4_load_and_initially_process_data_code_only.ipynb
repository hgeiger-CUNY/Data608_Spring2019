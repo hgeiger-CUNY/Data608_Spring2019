{
 "cells": [
  {
   "cell_type": "code",
   "execution_count": null,
   "metadata": {},
   "outputs": [],
   "source": [
    "import pandas as pd\n",
    "import numpy as np"
   ]
  },
  {
   "cell_type": "code",
   "execution_count": null,
   "metadata": {},
   "outputs": [],
   "source": [
    "import plotly.offline as py\n",
    "import plotly.graph_objs as go\n",
    "from plotly import tools\n",
    "import cufflinks as cf\n",
    "\n",
    "py.init_notebook_mode()"
   ]
  },
  {
   "cell_type": "code",
   "execution_count": null,
   "metadata": {},
   "outputs": [],
   "source": [
    "cf.set_config_file(offline=True, world_readable=False, theme='ggplot')"
   ]
  },
  {
   "cell_type": "markdown",
   "metadata": {},
   "source": [
    "This module we'll be looking at the New York City tree census. This data was provided by a volunteer driven census in 2015, and we'll be accessing it via the socrata API. The main site for the data is [here](https://data.cityofnewyork.us/Environment/2015-Street-Tree-Census-Tree-Data/uvpi-gqnh), and on the upper right hand side you'll be able to see the link to the API.\n",
    "\n",
    "The data is conveniently available in json format, so we should be able to just read it directly in to Pandas:"
   ]
  },
  {
   "cell_type": "code",
   "execution_count": null,
   "metadata": {},
   "outputs": [],
   "source": [
    "url = 'https://data.cityofnewyork.us/resource/nwxe-4ae8.json'\n",
    "trees = pd.read_json(url)\n",
    "trees.head(10)"
   ]
  },
  {
   "cell_type": "markdown",
   "metadata": {},
   "source": [
    "Looks good, but lets take a look at the shape of this data:"
   ]
  },
  {
   "cell_type": "code",
   "execution_count": null,
   "metadata": {},
   "outputs": [],
   "source": [
    "trees.shape"
   ]
  },
  {
   "cell_type": "markdown",
   "metadata": {},
   "source": [
    "1000 seems like too few trees for a city like New York, and a suspiciously round number. What's going on?\n",
    "\n",
    "Socrata places a 1000 row limit on their API. Raw data is meant to be \"paged\" through for applications, with the expectation that a UX wouldn't be able to handle a full dataset. \n",
    "\n",
    "As a simple example, if we had a mobile app with limited space that only displayed trees 5 at a time, we could view the first 5 trees in the dataset with the url below:"
   ]
  },
  {
   "cell_type": "code",
   "execution_count": null,
   "metadata": {},
   "outputs": [],
   "source": [
    "firstfive_url = 'https://data.cityofnewyork.us/resource/nwxe-4ae8.json?$limit=5&$offset=0'\n",
    "firstfive_trees = pd.read_json(firstfive_url)\n",
    "firstfive_trees"
   ]
  },
  {
   "cell_type": "markdown",
   "metadata": {},
   "source": [
    "If we wanted the next 5, we would use this url:"
   ]
  },
  {
   "cell_type": "code",
   "execution_count": null,
   "metadata": {},
   "outputs": [],
   "source": [
    "nextfive_url = 'https://data.cityofnewyork.us/resource/nwxe-4ae8.json?$limit=5&$offset=5'\n",
    "nextfive_trees = pd.read_json(nextfive_url)\n",
    "nextfive_trees"
   ]
  },
  {
   "cell_type": "markdown",
   "metadata": {},
   "source": [
    "You can read more about paging using the Socrata API [here](https://dev.socrata.com/docs/paging.html)\n",
    "\n",
    "In these docs, you'll also see more advanced functions (called `SoQL`) under the \"filtering and query\" section. These functions should be reminding you of SQL.\n",
    "\n",
    "Think about the shape you want your data to be in before querying it. Using `SoQL` is a good way to avoid the limits of the API. For example, using the below query I can easily obtain the count of each species of tree in the Bronx:"
   ]
  },
  {
   "cell_type": "code",
   "execution_count": null,
   "metadata": {},
   "outputs": [],
   "source": [
    "boro = 'Bronx'\n",
    "soql_url = ('https://data.cityofnewyork.us/resource/nwxe-4ae8.json?' +\\\n",
    "        '$select=spc_common,count(tree_id)' +\\\n",
    "        '&$where=boroname=\\'Bronx\\'' +\\\n",
    "        '&$group=spc_common').replace(' ', '%20')\n",
    "soql_trees = pd.read_json(soql_url)\n",
    "\n",
    "soql_trees"
   ]
  },
  {
   "cell_type": "markdown",
   "metadata": {},
   "source": [
    "This behavior is very common with web APIs, and I think this is useful when thinking about building interactive data products. When in a Jupyter Notebook or RStudio, there's an expectation that (unless you're dealing with truly large datasets) the data you want can be brought in memory and manipulated.\n",
    "\n",
    "Dash and Shiny abstract away the need to distinguish between client side and server side to make web development more accessible to data scientists. This can lead to some unintentional design mistakes if you don't think about how costly your callback functions are (for example: nothing will stop you in dash from running a costly model triggered whenever a dropdown is called.)\n",
    "\n",
    "The goal of using the Socrata is to force you to think about where your data operations are happening, and not resort to pulling in the data and performing all operations in local memory.\n",
    "\n",
    "----------\n",
    "\n",
    "**NOTE**: One tip in dealing with URLs: you may need to replace spaces with `'%20'`. I personally just write out the url and then follow the string with a replace:"
   ]
  },
  {
   "cell_type": "code",
   "execution_count": null,
   "metadata": {},
   "outputs": [],
   "source": [
    "'https://api-url.com/?query with spaces'.replace(' ', '%20')"
   ]
  },
  {
   "cell_type": "markdown",
   "metadata": {},
   "source": [
    "Now, let's make a query to get the count of trees per each unique combination of stewardship, health, species, and borough present in the data.\n",
    "\n",
    "There are 5 levels of steward including empty (None, 1or2, 3or4, and 4orMore, and empty string), 4 levels of health (Poor, Fair, Good, and empty string), 133 levels of spc_common including empty string, and 5 boroughs. So we could have up to 5 * 4 * 133 * 5 = 13,300 results from this query. However, I checked in a browser and we get less than 1,000 results starting on offset=4000, meaning that there are less than 5,000 results. So run for no offset, then offset 1000, 2000, 3000, and 4000."
   ]
  },
  {
   "cell_type": "code",
   "execution_count": null,
   "metadata": {},
   "outputs": [],
   "source": [
    "soql_url = ('https://data.cityofnewyork.us/resource/nwxe-4ae8.json?' +\\\n",
    "        '$select=spc_common,boroname,health,steward,count(tree_id)' +\\\n",
    "        '&$group=spc_common,boroname,health,steward').replace(' ', '%20')\n",
    "\n",
    "pg1 = pd.read_json(soql_url)\n",
    "pg2 = pd.read_json(soql_url + '&$offset=1000')\n",
    "pg3 = pd.read_json(soql_url + '&$offset=2000')\n",
    "pg4 = pd.read_json(soql_url + '&$offset=3000')\n",
    "pg5 = pd.read_json(soql_url + '&$offset=4000')"
   ]
  },
  {
   "cell_type": "markdown",
   "metadata": {},
   "source": [
    "Combine all 5 pages of results into one Pandas data frame."
   ]
  },
  {
   "cell_type": "code",
   "execution_count": null,
   "metadata": {},
   "outputs": [],
   "source": [
    "counts = pd.concat([pg1,pg2,pg3,pg4,pg5])"
   ]
  },
  {
   "cell_type": "markdown",
   "metadata": {},
   "source": [
    "Let's get results for species 'littleaf linden' in Queens."
   ]
  },
  {
   "cell_type": "code",
   "execution_count": null,
   "metadata": {},
   "outputs": [],
   "source": [
    "species = 'littleleaf linden'\n",
    "boro = 'Queens'\n",
    "\n",
    "counts_of_interest = counts[(counts['boroname'] == boro) & (counts['spc_common'] == species)]\n",
    "\n",
    "counts_of_interest"
   ]
  },
  {
   "cell_type": "markdown",
   "metadata": {},
   "source": [
    "Now, we need to visualize the proportion of trees at each health level for this species and borough. "
   ]
  },
  {
   "cell_type": "code",
   "execution_count": null,
   "metadata": {},
   "outputs": [],
   "source": [
    "counts_per_health = counts_of_interest.groupby('health').sum()['count_tree_id']\n",
    "\n",
    "trace = go.Bar(\n",
    "    x = counts_per_health.index,\n",
    "    y = counts_per_health\n",
    ")\n",
    "\n",
    "layout = go.Layout(\n",
    "    title = 'Species ' + species + ' in ' + boro,\n",
    "    xaxis = dict(title = 'Health'),\n",
    "    yaxis = dict(title = 'Number of trees')\n",
    ")\n",
    "\n",
    "fig = go.Figure(data = [trace], layout = layout)\n",
    "\n",
    "py.iplot(fig)"
   ]
  },
  {
   "cell_type": "markdown",
   "metadata": {},
   "source": [
    "Next, also visualize the percent of trees at each stewardship level with different health levels, and vice versa."
   ]
  },
  {
   "cell_type": "code",
   "execution_count": null,
   "metadata": {},
   "outputs": [],
   "source": [
    "counts_per_steward = counts_of_interest.groupby('steward').sum()['count_tree_id']\n",
    "\n",
    "health_as_percent_steward = pd.merge(counts_of_interest,\n",
    "                                     pd.DataFrame(counts_per_steward),\n",
    "                                     on='steward')\n",
    "\n",
    "health_as_percent_steward['percent_steward'] = health_as_percent_steward['count_tree_id_x']*100/health_as_percent_steward['count_tree_id_y']\n",
    "\n",
    "steward_as_percent_health = pd.merge(counts_of_interest,\n",
    "                                     pd.DataFrame(counts_per_health),\n",
    "                                     on='health')\n",
    "\n",
    "steward_as_percent_health['percent_health'] = steward_as_percent_health['count_tree_id_x']*100/steward_as_percent_health['count_tree_id_y']                                                                                                                    "
   ]
  },
  {
   "cell_type": "code",
   "execution_count": null,
   "metadata": {},
   "outputs": [],
   "source": [
    "health_as_percent_steward = health_as_percent_steward.pivot(index='steward',\n",
    "                                                            columns='health',\n",
    "                                                            values='percent_steward')\n",
    "\n",
    "steward_as_percent_health = steward_as_percent_health.pivot(index='health',\n",
    "                                                            columns='steward',\n",
    "                                                            values='percent_health')"
   ]
  },
  {
   "cell_type": "code",
   "execution_count": null,
   "metadata": {},
   "outputs": [],
   "source": [
    "health_as_percent_steward.iplot(kind='bar', \n",
    "                                barmode='stack',\n",
    "                                xTitle = 'Stewardship level',\n",
    "                                yTitle = 'Percent of trees',\n",
    "                                title = 'Species ' + species + ' in ' + boro)\n",
    "\n",
    "steward_as_percent_health.iplot(kind='bar', \n",
    "                                barmode='stack',\n",
    "                                xTitle = 'Health level',\n",
    "                                yTitle = 'Percent of trees',\n",
    "                                title = 'Species ' + species + ' in ' + boro)"
   ]
  },
  {
   "cell_type": "markdown",
   "metadata": {},
   "source": [
    "Looks like the first plot is probably best, and we should also print raw numbers. We'll make something similar to what is in this document when we build the app."
   ]
  },
  {
   "cell_type": "markdown",
   "metadata": {},
   "source": [
    "Only thing we should probably do is re-level health to poor/fair/good. Let's do that.\n",
    "\n",
    "Also make the plot title a bit more descriptive."
   ]
  },
  {
   "cell_type": "code",
   "execution_count": null,
   "metadata": {},
   "outputs": [],
   "source": [
    "health_as_percent_steward = health_as_percent_steward[['Poor','Fair','Good']]\n",
    "\n",
    "health_as_percent_steward.iplot(kind='bar', \n",
    "                                barmode='stack',\n",
    "                                xTitle = 'Stewardship level',\n",
    "                                yTitle = 'Percent of trees',\n",
    "                                title = 'Species ' + species + ' in ' + boro + '<br>Tree health as a function of stewardship')"
   ]
  },
  {
   "cell_type": "markdown",
   "metadata": {},
   "source": [
    "Actually, one last thing to think about.\n",
    "\n",
    "Did some exploratory analysis outside of this doc and found that species \"green ash\" in Staten Island has missing health information for one tree, while species \"honeylocust\" in Manhattan has missing health and steward information for one tree.\n",
    "\n",
    "How do the plots look for these two instances?"
   ]
  },
  {
   "cell_type": "code",
   "execution_count": null,
   "metadata": {},
   "outputs": [],
   "source": [
    "species = \"green ash\"\n",
    "boro = \"Staten Island\"\n",
    "\n",
    "counts_of_interest = counts[(counts['boroname'] == boro) & (counts['spc_common'] == species)]\n",
    "\n",
    "counts_per_steward = counts_of_interest.groupby('steward').sum()['count_tree_id']\n",
    "\n",
    "health_as_percent_steward = pd.merge(counts_of_interest,\n",
    "                                     pd.DataFrame(counts_per_steward),\n",
    "                                     on='steward')\n",
    "\n",
    "health_as_percent_steward['percent_steward'] = health_as_percent_steward['count_tree_id_x']*100/health_as_percent_steward['count_tree_id_y']\n",
    "\n",
    "health_as_percent_steward = health_as_percent_steward.pivot(index='steward',\n",
    "                                                            columns='health',\n",
    "                                                            values='percent_steward')\n",
    "\n",
    "print(health_as_percent_steward)\n",
    "\n",
    "health_as_percent_steward.iplot(kind='bar', \n",
    "                                barmode='stack',\n",
    "                                xTitle = 'Stewardship level',\n",
    "                                yTitle = 'Percent of trees',\n",
    "                                title = 'Species ' + species + ' in ' + boro + '<br>Tree health as a function of stewardship')\n",
    "\n",
    "health_as_percent_steward = health_as_percent_steward[['Poor','Fair','Good']]\n",
    "\n",
    "health_as_percent_steward.iplot(kind='bar', \n",
    "                                barmode='stack',\n",
    "                                xTitle = 'Stewardship level',\n",
    "                                yTitle = 'Percent of trees',\n",
    "                                title = 'Species ' + species + ' in ' + boro + '<br>Tree health as a function of stewardship')"
   ]
  },
  {
   "cell_type": "code",
   "execution_count": null,
   "metadata": {},
   "outputs": [],
   "source": [
    "species = \"honeylocust\"\n",
    "boro = \"Manhattan\"\n",
    "\n",
    "counts_of_interest = counts[(counts['boroname'] == boro) & (counts['spc_common'] == species)]\n",
    "\n",
    "counts_per_steward = counts_of_interest.groupby('steward').sum()['count_tree_id']\n",
    "\n",
    "health_as_percent_steward = pd.merge(counts_of_interest,\n",
    "                                     pd.DataFrame(counts_per_steward),\n",
    "                                     on='steward')\n",
    "\n",
    "health_as_percent_steward['percent_steward'] = health_as_percent_steward['count_tree_id_x']*100/health_as_percent_steward['count_tree_id_y']\n",
    "\n",
    "health_as_percent_steward = health_as_percent_steward.pivot(index='steward',\n",
    "                                                            columns='health',\n",
    "                                                            values='percent_steward')\n",
    "\n",
    "print(health_as_percent_steward)\n",
    "\n",
    "health_as_percent_steward.iplot(kind='bar', \n",
    "                                barmode='stack',\n",
    "                                xTitle = 'Stewardship level',\n",
    "                                yTitle = 'Percent of trees',\n",
    "                                title = 'Species ' + species + ' in ' + boro + '<br>Tree health as a function of stewardship')\n",
    "\n",
    "health_as_percent_steward = health_as_percent_steward[['Poor','Fair','Good']]\n",
    "\n",
    "health_as_percent_steward.iplot(kind='bar', \n",
    "                                barmode='stack',\n",
    "                                xTitle = 'Stewardship level',\n",
    "                                yTitle = 'Percent of trees',\n",
    "                                title = 'Species ' + species + ' in ' + boro + '<br>Tree health as a function of stewardship')"
   ]
  },
  {
   "cell_type": "markdown",
   "metadata": {},
   "source": [
    "Looks like when both are NA, it gets removed by the pivot. It is included when only health is NA. But for this one instance where the health NA makes up just .05% of the trees at that stewardship level, I think we can just ignore, and the bar only being 99.95 high instead of 100 should not even be noticeable."
   ]
  }
 ],
 "metadata": {
  "kernelspec": {
   "display_name": "Python 3",
   "language": "python",
   "name": "python3"
  },
  "language_info": {
   "codemirror_mode": {
    "name": "ipython",
    "version": 3
   },
   "file_extension": ".py",
   "mimetype": "text/x-python",
   "name": "python",
   "nbconvert_exporter": "python",
   "pygments_lexer": "ipython3",
   "version": "3.7.0"
  }
 },
 "nbformat": 4,
 "nbformat_minor": 2
}
