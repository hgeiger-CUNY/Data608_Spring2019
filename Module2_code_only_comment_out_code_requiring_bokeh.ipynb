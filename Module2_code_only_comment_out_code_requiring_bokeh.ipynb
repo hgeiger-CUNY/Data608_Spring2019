{
 "cells": [
  {
   "cell_type": "code",
   "execution_count": null,
   "metadata": {},
   "outputs": [],
   "source": [
    "import datashader as ds\n",
    "import datashader.transfer_functions as tf\n",
    "import datashader.glyphs\n",
    "from datashader import reductions\n",
    "from datashader.core import bypixel\n",
    "from datashader.utils import lnglat_to_meters as webm, export_image\n",
    "from datashader.colors import colormap_select, Greys9, viridis, inferno\n",
    "import copy\n",
    "\n",
    "\n",
    "from pyproj import Proj, transform\n",
    "import numpy as np\n",
    "import pandas as pd\n",
    "import urllib\n",
    "import json\n",
    "import datetime\n",
    "import colorlover as cl\n",
    "\n",
    "import plotly.offline as py\n",
    "import plotly.graph_objs as go\n",
    "from plotly import tools\n",
    "\n",
    "from shapely.geometry import Point, Polygon, shape\n",
    "# In order to get shapley, you'll need to run [pip install shapely.geometry] from your terminal\n",
    "\n",
    "from functools import partial\n",
    "\n",
    "from IPython.display import GeoJSON\n",
    "\n",
    "#from datashader.bokeh_ext import create_categorical_legend # legend\n",
    "#from bokeh.io import output_notebook, show\n",
    "\n",
    "py.init_notebook_mode()"
   ]
  },
  {
   "cell_type": "markdown",
   "metadata": {},
   "source": [
    "For module 2 we'll be looking at techniques for dealing with big data. In particular binning strategies and the datashader library (which possibly proves we'll never need to bin large data for visualization ever again.)\n",
    "\n",
    "To demonstrate these concepts we'll be looking at the PLUTO dataset put out by New York City's department of city planning. PLUTO contains data about every tax lot in New York City.\n",
    "\n",
    "PLUTO data can be downloaded from [here](https://www1.nyc.gov/assets/planning/download/zip/data-maps/open-data/nyc_pluto_17v1_1.zip). Unzip them to the same directory as this notebook, and you should be able to read them in using this (or very similar) code. Also take note of the data dictionary, it'll come in handy for this assignment."
   ]
  },
  {
   "cell_type": "code",
   "execution_count": null,
   "metadata": {},
   "outputs": [],
   "source": [
    "ny = pd.read_csv('pluto_18v2.csv')\n",
    "\n",
    "\n",
    "# Getting rid of some outliers\n",
    "ny = ny[(ny['yearbuilt'] > 1850) & (ny['yearbuilt'] < 2020) & (ny['numfloors'] != 0)]"
   ]
  },
  {
   "cell_type": "markdown",
   "metadata": {},
   "source": [
    "Remove columns we will not be using."
   ]
  },
  {
   "cell_type": "code",
   "execution_count": null,
   "metadata": {},
   "outputs": [],
   "source": [
    "ny = ny[['yearbuilt','numfloors','bbl','assessland','assesstot','xcoord','ycoord']]"
   ]
  },
  {
   "cell_type": "markdown",
   "metadata": {},
   "source": [
    "I'll also do some prep for the geographic component of this data, which we'll be relying on for datashader.\n",
    "\n",
    "You're not required to know how I'm retrieving the lattitude and longitude here, but for those interested: this dataset uses a flat x-y projection (assuming for a small enough area that the world is flat for easier calculations), and this needs to be projected back to traditional lattitude and longitude."
   ]
  },
  {
   "cell_type": "code",
   "execution_count": null,
   "metadata": {},
   "outputs": [],
   "source": [
    "\n",
    "\n",
    "wgs84 = Proj(\"+proj=longlat +ellps=GRS80 +datum=NAD83 +no_defs\")\n",
    "nyli = Proj(\"+proj=lcc +lat_1=40.66666666666666 +lat_2=41.03333333333333 +lat_0=40.16666666666666 +lon_0=-74 +x_0=300000 +y_0=0 +ellps=GRS80 +datum=NAD83 +to_meter=0.3048006096012192 +no_defs\")\n",
    "ny['xcoord'] = 0.3048*ny['xcoord']\n",
    "ny['ycoord'] = 0.3048*ny['ycoord']\n",
    "ny['lon'], ny['lat'] = transform(nyli, wgs84, ny['xcoord'].values, ny['ycoord'].values)\n",
    "\n",
    "ny = ny[(ny['lon'] < -60) & (ny['lon'] > -100) & (ny['lat'] < 60) & (ny['lat'] > 20)]\n",
    "\n",
    "#Defining some helper functions for DataShader\n",
    "background = \"black\"\n",
    "export = partial(export_image, background = background, export_path=\"export\")\n",
    "cm = partial(colormap_select, reverse=(background!=\"black\"))"
   ]
  },
  {
   "cell_type": "markdown",
   "metadata": {},
   "source": [
    "## Part 1: Binning and Aggregation\n",
    "\n",
    "Binning is a common strategy for visualizing large datasets. Binning is inherent to a few types of visualizations, such as histograms and [2D histograms](https://plot.ly/python/2D-Histogram/) (also check out their close relatives: [2D density plots](https://plot.ly/python/2d-density-plots/) and the more general form: [heatmaps](https://plot.ly/python/heatmaps/).\n",
    "\n",
    "While these visualization types explicitly include binning, any type of visualization used with aggregated data can be looked at in the same way. For example, lets say we wanted to look at building construction over time. This would be best viewed as a line graph, but we can still think of our results as being binned by year:"
   ]
  },
  {
   "cell_type": "code",
   "execution_count": null,
   "metadata": {},
   "outputs": [],
   "source": [
    "trace = go.Scatter(\n",
    "    # I'm choosing BBL here because I know it's a unique key.\n",
    "    x = ny.groupby('yearbuilt').count()['bbl'].index,\n",
    "    y = ny.groupby('yearbuilt').count()['bbl']\n",
    ")\n",
    "\n",
    "layout = go.Layout(\n",
    "    xaxis = dict(title = 'Year Built'),\n",
    "    yaxis = dict(title = 'Number of Lots Built')\n",
    ")\n",
    "\n",
    "fig = go.Figure(data = [trace], layout = layout)\n",
    "\n",
    "py.iplot(fig)"
   ]
  },
  {
   "cell_type": "markdown",
   "metadata": {},
   "source": [
    "Something looks off... You're going to have to deal with this imperfect data to answer this first question. \n",
    "\n",
    "But first: some notes on pandas. Pandas dataframes are a different beast than R dataframes, here are some tips to help you get up to speed:\n",
    "\n",
    "---\n",
    "\n",
    "Hello all, here are some pandas tips to help you guys through this homework:\n",
    "\n",
    "[Indexing and Selecting](https://pandas.pydata.org/pandas-docs/stable/indexing.html): .loc and .iloc are the analogs for base R subsetting, or filter() in dplyr\n",
    "\n",
    "[Group By](https://pandas.pydata.org/pandas-docs/stable/groupby.html):  This is the pandas analog to group_by() and the appended function the analog to summarize(). Try out a few examples of this, and display the results in Jupyter. Take note of what's happening to the indexes, you'll notice that they'll become hierarchical. I personally find this more of a burden than a help, and this sort of hierarchical indexing leads to a fundamentally different experience compared to R dataframes. Once you perform an aggregation, try running the resulting hierarchical datafrome through a [reset_index()](https://pandas.pydata.org/pandas-docs/stable/generated/pandas.DataFrame.reset_index.html).\n",
    "\n",
    "[Reset_index](https://pandas.pydata.org/pandas-docs/stable/generated/pandas.DataFrame.reset_index.html): I personally find the hierarchical indexes more of a burden than a help, and this sort of hierarchical indexing leads to a fundamentally different experience compared to R dataframes. reset_index() is a way of restoring a dataframe to a flatter index style. Grouping is where you'll notice it the most, but it's also useful when you filter data, and in a few other split-apply-combine workflows. With pandas indexes are more meaningful, so use this if you start getting unexpected results.\n",
    "\n",
    "Indexes are more important in Pandas than in R. If you delve deeper into the using python for data science, you'll begin to see the benefits in many places (despite the personal gripes I highlighted above.) One place these indexes come in handy is with time series data. The pandas docs have a [huge section](http://pandas.pydata.org/pandas-docs/stable/timeseries.html) on datetime indexing. In particular, check out [resample](https://pandas.pydata.org/pandas-docs/stable/generated/pandas.DataFrame.resample.html), which provides time series specific aggregation.\n",
    "\n",
    "[Merging, joining, and concatenation](https://pandas.pydata.org/pandas-docs/stable/merging.html): There's some overlap between these different types of merges, so use this as your guide. Concat is a single function that replaces cbind and rbind in R, and the results are driven by the indexes. Read through these examples to get a feel on how these are performed, but you will have to manage your indexes when you're using these functions. Merges are fairly similar to merges in R, similarly mapping to SQL joins.\n",
    "\n",
    "Apply: This is explained in the \"group by\" section linked above. These are your analogs to the plyr library in R. Take note of the lambda syntax used here, these are anonymous functions in python. Rather than predefining a custom function, you can just define it inline using lambda.\n",
    "\n",
    "Browse through the other sections for some other specifics, in particular reshaping and categorical data (pandas' answer to factors.) Pandas can take a while to get used to, but it is a pretty strong framework that makes more advanced functions easier once you get used to it. Rolling functions for example follow logically from the apply workflow (and led to the best google results ever when I first tried to find this out and googled \"pandas rolling\")\n",
    "\n",
    "Google Wes Mckinney's book \"Python for Data Analysis,\" which is a cookbook style intro to pandas. It's an O'Reilly book that should be pretty available out there.\n",
    "\n",
    "---\n",
    "\n",
    "### Question\n",
    "\n",
    "After a few building collapses, the City of New York is going to begin investigating older buildings for safety. The city is particularly worried about buildings that were unusually tall when they were built, since best-practices for safety hadn’t yet been determined. Create a graph that shows how many buildings of a certain number of floors were built in each year (note: you may want to use a log scale for the number of buildings). Find a strategy to bin buildings (It should be clear 20-29-story buildings, 30-39-story buildings, and 40-49-story buildings were first built in large numbers, but does it make sense to continue in this way as you get taller?)"
   ]
  },
  {
   "cell_type": "markdown",
   "metadata": {},
   "source": [
    "### Answer"
   ]
  },
  {
   "cell_type": "markdown",
   "metadata": {},
   "source": [
    "Let's actually just start examining this data more closely by first looking at the number of lots built per year again. From the PLUTO info file about the \"yearbuilt\" column:"
   ]
  },
  {
   "cell_type": "markdown",
   "metadata": {},
   "source": [
    "\"YEAR BUILT is accurate for the decade, but not necessarily for the specific year. Between 1910 and 1985, the majority of YEAR BUILT values are in years ending in 5 or 0. A large number of structures built between 1800s and early 1900s have a YEAR BUILT between 1899 and 1901.\""
   ]
  },
  {
   "cell_type": "markdown",
   "metadata": {},
   "source": [
    "So let's make a barplot where we plot the number of lots built per decade (1850s to 2010s) instead of per individual year."
   ]
  },
  {
   "cell_type": "code",
   "execution_count": null,
   "metadata": {},
   "outputs": [],
   "source": [
    "#From https://www.analyticsvidhya.com/blog/2016/01/12-pandas-techniques-python-data-manipulation/.\n",
    "\n",
    "def binning(col, cut_points, labels=None):\n",
    "    #Define min and max values:\n",
    "    minval = col.min()\n",
    "    maxval = col.max()\n",
    "    \n",
    "    #create list by adding min and max to cut_points\n",
    "    break_points = [minval] + cut_points + [maxval]\n",
    "    \n",
    "    #if no labels provided, use default labels 0 ... (n-1)\n",
    "    if not labels:\n",
    "        labels = range(len(cut_points)+1)\n",
    "    \n",
    "    #Binning using cut function of pandas\n",
    "    colBin = pd.cut(col,bins=break_points,labels=labels,include_lowest=True)\n",
    "    return colBin\n",
    "\n",
    "cut_points = np.ndarray.tolist(np.arange(1859,2019,10))\n",
    "labels = ['1850s'] + [str(i) + 's' for i in np.ndarray.tolist(np.arange(1860,2020,10))]\n",
    "\n",
    "ny['decadebuilt'] = binning(ny[\"yearbuilt\"],cut_points,labels)\n",
    "\n",
    "trace = go.Bar(\n",
    "    # I'm choosing BBL here because I know it's a unique key.\n",
    "    x = ny.groupby('decadebuilt').count()['bbl'].index,\n",
    "    y = ny.groupby('decadebuilt').count()['bbl']\n",
    ")\n",
    "\n",
    "layout = go.Layout(\n",
    "    xaxis = dict(title = 'Year Built'),\n",
    "    yaxis = dict(title = 'Number of Lots Built')\n",
    ")\n",
    "\n",
    "fig = go.Figure(data = [trace], layout = layout)\n",
    "\n",
    "py.iplot(fig)"
   ]
  },
  {
   "cell_type": "markdown",
   "metadata": {},
   "source": [
    "Now that we have the years binned in a sensible manner (into decades), let's move on to also binning by number of stories."
   ]
  },
  {
   "cell_type": "markdown",
   "metadata": {},
   "source": [
    "Start by making a simple histogram of the \"numfloors\" column. Round up the number of floors for any numbers greater than the whole number (e.g. count partial floors as full floors)."
   ]
  },
  {
   "cell_type": "code",
   "execution_count": null,
   "metadata": {},
   "outputs": [],
   "source": [
    "ny['numfloors'] = np.ceil(ny['numfloors'])\n",
    "\n",
    "trace = go.Histogram(x=ny[\"numfloors\"],\n",
    "    nbinsx = 21)\n",
    "\n",
    "layout = go.Layout(\n",
    "    xaxis = dict(title = 'Number of floors'),\n",
    "    yaxis = dict(title = 'Number of buildings')\n",
    ")\n",
    "\n",
    "fig = go.Figure(data = [trace], layout = layout)\n",
    "\n",
    "py.iplot(fig)"
   ]
  },
  {
   "cell_type": "markdown",
   "metadata": {},
   "source": [
    "Based on this, it seems reasonable to bin all buildings with 50+ floors together."
   ]
  },
  {
   "cell_type": "markdown",
   "metadata": {},
   "source": [
    "Let's make another histogram just showing only buildings with 9 or fewer floors."
   ]
  },
  {
   "cell_type": "code",
   "execution_count": null,
   "metadata": {},
   "outputs": [],
   "source": [
    "ny_lowbuildings = ny[(ny['numfloors'] < 10)]\n",
    "\n",
    "trace = go.Histogram(x=ny_lowbuildings[\"numfloors\"],\n",
    "    nbinsx=9)\n",
    "\n",
    "fig = go.Figure(data = [trace], layout = layout)\n",
    "\n",
    "py.iplot(fig)"
   ]
  },
  {
   "cell_type": "markdown",
   "metadata": {},
   "source": [
    "Based on this, plus the fact that buildings higher than 6 stories have unique challenges with getting running water above them in NYC, I propose we look at how many buildings had been built through the end of each decade with 7+ stories, 10+ stories, 20+ stories, 30+ stories, 40+ stories, and 50+ stories."
   ]
  },
  {
   "cell_type": "code",
   "execution_count": null,
   "metadata": {},
   "outputs": [],
   "source": [
    "heights = [7,10,20,30,40,50]\n",
    "\n",
    "fig = tools.make_subplots(rows=3,cols=2,\n",
    "    subplot_titles=[i + ' floors' for i in ['7+','10+','20+','30+','40+','50+']],\n",
    "    shared_xaxes=True)\n",
    "\n",
    "i = 0\n",
    "j = 1                          \n",
    "                        \n",
    "for height in heights:\n",
    "    i = i + 1\n",
    "    this_or_higher = ny[(ny['numfloors'] >= height)]\n",
    "    trace = go.Bar(\n",
    "        x = this_or_higher.groupby('decadebuilt').count()['bbl'].index,\n",
    "        y = this_or_higher.groupby('decadebuilt').count()['bbl'],\n",
    "        name = '')\n",
    "    if i == 1:\n",
    "        fig.append_trace(trace, 1, 1)\n",
    "    if i == 2:\n",
    "        fig.append_trace(trace, 1, 2)\n",
    "    if i == 3:\n",
    "        fig.append_trace(trace, 2, 1)\n",
    "    if i == 4:\n",
    "        fig.append_trace(trace, 2, 2)\n",
    "    if i == 5:\n",
    "        fig.append_trace(trace, 3, 1)\n",
    "    if i == 6:\n",
    "        fig.append_trace(trace, 3, 2)\n",
    "    \n",
    "fig['layout'].update(height=600, width=800,showlegend=False,\n",
    "    title='Number of buildings built per decade')\n",
    "\n",
    "fig['layout']['xaxis1'].update(title='')\n",
    "fig['layout']['xaxis2'].update(title='')\n",
    "\n",
    "py.iplot(fig)"
   ]
  },
  {
   "cell_type": "markdown",
   "metadata": {},
   "source": [
    "The biggest jump we see is in buildings with 7+ stories, which were built very rarely before 1900.\n",
    " \n",
    "We also see that buildings with 20+ or 30+ stories became much more common around the 1920s.\n",
    " \n",
    "For buildings with 40+ or 50+ stories, it's a bit harder to tell because these buildings are generally pretty rare. But it seems like they became more common in the 1930s.\n",
    " \n",
    "In summary, we should probably pay close attention in our inspections to buildings with 7+ stories built before 1900, buildings with 20+ stories built before 1920, and buildings with 40+ stories built before 1930."
   ]
  },
  {
   "cell_type": "markdown",
   "metadata": {},
   "source": [
    "## Part 2: Datashader\n",
    "\n",
    "Datashader is a library from Anaconda that does away with the need for binning data. It takes in all of your datapoints, and based on the canvas and range returns a pixel-by-pixel calculations to come up with the best representation of the data. In short, this completely eliminates the need for binning your data.\n",
    "\n",
    "As an example, lets continue with our question above and look at a 2D histogram of YearBuilt vs NumFloors:"
   ]
  },
  {
   "cell_type": "code",
   "execution_count": null,
   "metadata": {
    "scrolled": false
   },
   "outputs": [],
   "source": [
    "yearbins = 200\n",
    "floorbins = 200\n",
    "\n",
    "yearBuiltCut = pd.cut(ny['yearbuilt'], np.linspace(ny['yearbuilt'].min(), ny['yearbuilt'].max(), yearbins))\n",
    "numFloorsCut = pd.cut(ny['numfloors'], np.logspace(1, np.log(ny['numfloors'].max()), floorbins))\n",
    "\n",
    "xlabels = np.floor(np.linspace(ny['yearbuilt'].min(), ny['yearbuilt'].max(), yearbins))\n",
    "ylabels = np.floor(np.logspace(1, np.log(ny['numfloors'].max()), floorbins))\n",
    "\n",
    "data = [\n",
    "    go.Heatmap(z = ny.groupby([numFloorsCut, yearBuiltCut])['bbl'].count().unstack().fillna(0).values,\n",
    "              colorscale = 'Greens', x = xlabels, y = ylabels)\n",
    "]\n",
    "\n",
    "py.iplot(data)"
   ]
  },
  {
   "cell_type": "markdown",
   "metadata": {},
   "source": [
    "This shows us the distribution, but it's subject to some biases discussed in the Anaconda notebook [Plotting Perils](https://anaconda.org/jbednar/plotting_pitfalls/notebook). \n",
    "\n",
    "Here is what the same plot would look like in datashader:\n",
    "\n"
   ]
  },
  {
   "cell_type": "code",
   "execution_count": null,
   "metadata": {
    "scrolled": false
   },
   "outputs": [],
   "source": [
    "cvs = ds.Canvas(800, 500, x_range = (ny['yearbuilt'].min(), ny['yearbuilt'].max()), \n",
    "                                y_range = (ny['numfloors'].min(), ny['numfloors'].max()))\n",
    "agg = cvs.points(ny, 'yearbuilt', 'numfloors')\n",
    "view = tf.shade(agg, cmap = cm(Greys9), how='log')\n",
    "export(tf.spread(view, px=2), 'yearvsnumfloors')"
   ]
  },
  {
   "cell_type": "markdown",
   "metadata": {},
   "source": [
    "That's technically just a scatterplot, but the points are smartly placed and colored to mimic what one gets in a heatmap. Based on the pixel size, it will either display individual points, or will color the points of denser regions.\n",
    "\n",
    "Datashader really shines when looking at geographic information. Here are the latitudes and longitudes of our dataset plotted out, giving us a map of the city colored by density of structures:"
   ]
  },
  {
   "cell_type": "code",
   "execution_count": null,
   "metadata": {},
   "outputs": [],
   "source": [
    "NewYorkCity   = (( -74.29,  -73.69), (40.49, 40.92))\n",
    "cvs = ds.Canvas(700, 700, *NewYorkCity)\n",
    "agg = cvs.points(ny, 'lon', 'lat')\n",
    "view = tf.shade(agg, cmap = cm(inferno), how='log')\n",
    "export(tf.spread(view, px=2), 'firery')"
   ]
  },
  {
   "cell_type": "markdown",
   "metadata": {},
   "source": [
    "Interestingly, since we're looking at structures, the large buildings of Manhattan show up as less dense on the map. The densest areas measured by number of lots would be single or multi family townhomes.\n",
    "\n",
    "Unfortunately, Datashader doesn't have the best documentation. Browse through the examples from their [github repo](https://github.com/bokeh/datashader/tree/master/examples). I would focus on the [visualization pipeline](https://anaconda.org/jbednar/pipeline/notebook) and the [US Census](https://anaconda.org/jbednar/census/notebook) Example for the question below. Feel free to use my samples as templates as well when you work on this problem.\n",
    "\n",
    "### Question\n",
    "\n",
    "You work for a real estate developer and are researching underbuilt areas of the city. After looking in the [Pluto data dictionary](https://www1.nyc.gov/assets/planning/download/pdf/data-maps/open-data/pluto_datadictionary.pdf?v=17v1_1), you've discovered that all tax assessments consist of two parts: The assessment of the land and assessment of the structure. You reason that there should be a correlation between these two values: more valuable land will have more valuable structures on them (more valuable in this case refers not just to a mansion vs a bungalow, but an apartment tower vs a single family home). Deviations from the norm could represent underbuilt or overbuilt areas of the city. You also recently read a really cool blog post about [bivariate choropleth maps](http://www.joshuastevens.net/cartography/make-a-bivariate-choropleth-map/), and think the technique could be used for this problem.\n",
    "\n",
    "Datashader is really cool, but it's not that great at labeling your visualization. Don't worry about providing a legend, but provide a quick explanation as to which areas of the city are overbuilt, which areas are underbuilt, and which areas are built in a way that's properly correlated with their land value."
   ]
  },
  {
   "cell_type": "markdown",
   "metadata": {},
   "source": [
    "### Answer"
   ]
  },
  {
   "cell_type": "markdown",
   "metadata": {},
   "source": [
    "Our two variables of interest here are assessland (land value) and assesstot (total value)."
   ]
  },
  {
   "cell_type": "markdown",
   "metadata": {},
   "source": [
    "Let's start with some simple histograms of these values."
   ]
  },
  {
   "cell_type": "code",
   "execution_count": null,
   "metadata": {},
   "outputs": [],
   "source": [
    "trace = go.Histogram(x=np.log10(ny[\"assessland\"] + 1),\n",
    "    xbins=dict(start = 0,end = 10,size=1))\n",
    "\n",
    "layout = go.Layout(\n",
    "    xaxis = dict(title = 'log10(land assessment value + 1)'),\n",
    "    yaxis = dict(title = 'Number of lots')\n",
    ")\n",
    "\n",
    "fig = go.Figure(data = [trace], layout = layout)\n",
    "\n",
    "py.iplot(fig)\n",
    "\n",
    "trace = go.Histogram(x=np.log10(ny[\"assesstot\"] + 1),\n",
    "    xbins=dict(start = 0,end = 10,size=0.5))\n",
    "\n",
    "layout = go.Layout(\n",
    "    xaxis = dict(title = 'log10(total assessment value + 1)'),\n",
    "    yaxis = dict(title = 'Number of lots')\n",
    ")\n",
    "\n",
    "fig = go.Figure(data = [trace], layout = layout)\n",
    "\n",
    "py.iplot(fig)"
   ]
  },
  {
   "cell_type": "markdown",
   "metadata": {},
   "source": [
    "It looks like these variables are quite skewed, even if we use a log-scale."
   ]
  },
  {
   "cell_type": "markdown",
   "metadata": {},
   "source": [
    "For the bivariate chloropleth map, we'll need to convert each variable to low/medium/high."
   ]
  },
  {
   "cell_type": "markdown",
   "metadata": {},
   "source": [
    "To do this, we'll call low as values below the 33rd percentile, medium percentiles ~33-67, and high percentiles >67%. "
   ]
  },
  {
   "cell_type": "code",
   "execution_count": null,
   "metadata": {},
   "outputs": [],
   "source": [
    "index_for_first_third = round(ny.shape[0]/3) - 1\n",
    "index_for_second_third = round((ny.shape[0]*2)/3) - 1\n",
    "\n",
    "assessland = pd.Series.sort_values(ny[\"assessland\"])\n",
    "assesstot = pd.Series.sort_values(ny[\"assesstot\"])\n",
    "\n",
    "cut_points = [assessland.iloc[index_for_first_third],assessland.iloc[index_for_second_third]]\n",
    "labels = ['Land_low','Land_mid','Land_high']\n",
    "\n",
    "ny['landvalue_level'] = binning(ny[\"assessland\"],cut_points,labels)\n",
    "\n",
    "cut_points = [assesstot.iloc[index_for_first_third],assesstot.iloc[index_for_second_third]]\n",
    "labels = ['Tot_low','Tot_mid','Tot_high']\n",
    "\n",
    "ny['totalvalue_level'] = binning(ny[\"assesstot\"],cut_points,labels)"
   ]
  },
  {
   "cell_type": "markdown",
   "metadata": {},
   "source": [
    "Next, need to combine these two variables."
   ]
  },
  {
   "cell_type": "code",
   "execution_count": null,
   "metadata": {},
   "outputs": [],
   "source": [
    "ny['land_and_total_value_level'] = ny['landvalue_level'].astype(str) + '/' + ny['totalvalue_level'].astype(str)\n",
    "\n",
    "ny['land_and_total_value_level'] = pd.Categorical(ny['land_and_total_value_level'],\n",
    "                                                  ['Land_low/Tot_low',\n",
    "                                                  'Land_low/Tot_mid',\n",
    "                                                  'Land_low/Tot_high',\n",
    "                                                  'Land_mid/Tot_low',\n",
    "                                                  'Land_mid/Tot_mid',\n",
    "                                                  'Land_mid/Tot_high',\n",
    "                                                  'Land_high/Tot_low',\n",
    "                                                  'Land_high/Tot_mid',\n",
    "                                                  'Land_high/Tot_high'])"
   ]
  },
  {
   "cell_type": "markdown",
   "metadata": {},
   "source": [
    "Check number of records with each combination."
   ]
  },
  {
   "cell_type": "code",
   "execution_count": null,
   "metadata": {},
   "outputs": [],
   "source": [
    "ny.groupby('land_and_total_value_level').count()['bbl']"
   ]
  },
  {
   "cell_type": "markdown",
   "metadata": {},
   "source": [
    "Now ready to make the map!"
   ]
  },
  {
   "cell_type": "code",
   "execution_count": null,
   "metadata": {},
   "outputs": [],
   "source": [
    "#From http://www.joshuastevens.net/cartography/make-a-bivariate-choropleth-map/.\n",
    "#And https://rstudio-pubs-static.s3.amazonaws.com/359867_2aefda9cfaa247938dc9b2be7cc23e55.html#part-2-datashade.\n",
    "\n",
    "mycol = ['#e8e8e8','#dfb0d6','#be64ac','#ace4e4','#a5add3','#8c62aa','#5ac8c8','#5698b9','#3b4994'] \n",
    "\n",
    "colors = {'Land_low/Tot_low': mycol[0], \n",
    "          'Land_low/Tot_mid': mycol[1],\n",
    "          'Land_low/Tot_high': mycol[2],\n",
    "          'Land_mid/Tot_low': mycol[3],\n",
    "          'Land_mid/Tot_mid': mycol[4],\n",
    "          'Land_mid/Tot_high': mycol[5],\n",
    "          'Land_high/Tot_low': mycol[6],\n",
    "          'Land_high/Tot_mid': mycol[7],\n",
    "          'Land_high/Tot_high': mycol[8]}\n",
    "\n",
    "background = \"lightgrey\"\n",
    "export = partial(export_image, background = background, export_path=\"export\")\n",
    "cm = partial(colormap_select, reverse=(background!=\"lightgrey\"))\n",
    "\n",
    "NewYorkCity   = (( -74.29,  -73.69), (40.49, 40.92))\n",
    "\n",
    "cvs = ds.Canvas(700, 700, *NewYorkCity)\n",
    "agg = cvs.points(ny, 'lon', 'lat', ds.count_cat('land_and_total_value_level'))\n",
    "view = tf.shade(agg, color_key = colors)\n",
    "export(tf.spread(view, px=1), 'cloropleth')"
   ]
  },
  {
   "cell_type": "code",
   "execution_count": null,
   "metadata": {},
   "outputs": [],
   "source": [
    "#show(create_categorical_legend(colors))"
   ]
  },
  {
   "cell_type": "markdown",
   "metadata": {},
   "source": [
    "The areas that have land vs. building prices as expected will be white (both low), light blue, non-teal (both medium), or dark blue (both high)."
   ]
  },
  {
   "cell_type": "markdown",
   "metadata": {},
   "source": [
    "Meanwhile areas where land is more relatively valuable than the structures are other shades of blue that lean more teal, while areas where land is less relatively valuable than structures will be in shades of pink or purple."
   ]
  },
  {
   "cell_type": "markdown",
   "metadata": {},
   "source": [
    "Southern Queens (especially Southeast Queens) seems to be an area with higher land values relative to total values."
   ]
  },
  {
   "cell_type": "markdown",
   "metadata": {},
   "source": [
    "While Northern Brooklyn seems to be an area with lower land values relative to total values."
   ]
  }
 ],
 "metadata": {
  "kernelspec": {
   "display_name": "Python 3",
   "language": "python",
   "name": "python3"
  },
  "language_info": {
   "codemirror_mode": {
    "name": "ipython",
    "version": 3
   },
   "file_extension": ".py",
   "mimetype": "text/x-python",
   "name": "python",
   "nbconvert_exporter": "python",
   "pygments_lexer": "ipython3",
   "version": "3.7.0"
  }
 },
 "nbformat": 4,
 "nbformat_minor": 2
}
